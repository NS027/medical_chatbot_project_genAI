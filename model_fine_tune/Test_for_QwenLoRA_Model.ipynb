{
 "cells": [
  {
   "cell_type": "code",
   "execution_count": 6,
   "id": "2155b205",
   "metadata": {},
   "outputs": [
    {
     "name": "stderr",
     "output_type": "stream",
     "text": [
      "Setting `pad_token_id` to `eos_token_id`:151643 for open-end generation.\n"
     ]
    },
    {
     "name": "stdout",
     "output_type": "stream",
     "text": [
      "### Instruction:\n",
      "Given an ADA dental procedure code and its short name, provide a detailed explanation that helps a patient understand what the procedure involves.\n",
      "\n",
      "### Code:\n",
      "39 - CT of facial bone\n",
      "\n",
      "### Response: \n",
      "Computerized tomography of facial bone; includes both anterior and posterior views; includes both soft and hard tissue; includes both bone and soft tissue; includes both anterior and posterior views; includes both soft and hard tissue; includes both bone and soft tissue; includes both anterior and posterior views; includes both soft and hard tissue; includes both bone and soft tissue; includes both anterior and posterior views; includes both soft and hard tissue; includes both bone and soft tissue; includes both anterior and posterior views; includes both soft and hard tissue; includes both bone and soft tissue; includes both anterior and posterior views; includes both soft and hard tissue; includes both bone and soft tissue; includes both anterior and posterior views; includes both soft and hard tissue; includes\n"
     ]
    }
   ],
   "source": [
    "import torch\n",
    "from transformers import AutoTokenizer, AutoModelForCausalLM\n",
    "from peft import PeftModel\n",
    "\n",
    "device = torch.device(\"cuda\" if torch.cuda.is_available() else \"cpu\")\n",
    "\n",
    "# 1. Load base Qwen model\n",
    "base_model = AutoModelForCausalLM.from_pretrained(\"Qwen/Qwen2.5-1.5B\", trust_remote_code=True).to(device)\n",
    "\n",
    "# 2. Load LoRA adapter\n",
    "model = PeftModel.from_pretrained(base_model, \"BirdieByte1024/Qwen2.5-1.5B-LoRA-dental\").to(device)\n",
    "model.eval()\n",
    "\n",
    "# 3. Load tokenizer\n",
    "tokenizer = AutoTokenizer.from_pretrained(\"Qwen/Qwen2.5-1.5B\", trust_remote_code=True)\n",
    "\n",
    "# 4. Example prompt\n",
    "prompt = \"\"\"### Instruction:\n",
    "Given an ADA dental procedure code and its short name, provide a detailed explanation that helps a patient understand what the procedure involves.\n",
    "\n",
    "### Code:\n",
    "39 - CT of facial bone\n",
    "\n",
    "### Response:\"\"\"\n",
    "\n",
    "inputs = tokenizer(prompt, return_tensors=\"pt\").to(device)\n",
    "with torch.no_grad():\n",
    "    outputs = model.generate(\n",
    "        **inputs,\n",
    "        max_new_tokens=150,\n",
    "        do_sample=False,\n",
    "        temperature=0.7,\n",
    "        top_p=0.95\n",
    "    )\n",
    "\n",
    "print(tokenizer.decode(outputs[0], skip_special_tokens=True))"
   ]
  },
  {
   "cell_type": "code",
   "execution_count": 11,
   "id": "7776727d",
   "metadata": {},
   "outputs": [
    {
     "name": "stdout",
     "output_type": "stream",
     "text": [
      "\n",
      "🔹 BASE MODEL (Qwen/Qwen2.5-1.5B)\n",
      "------------------------------------------------------------\n",
      "📝 Input Prompt:\n",
      "Given an ADA dental procedure code and its short name, provide a detailed explanation that helps a patient understand what the procedure involves. Explain the meaning of ADA dental code 39: CT of facial bone.\n",
      "\n"
     ]
    },
    {
     "name": "stderr",
     "output_type": "stream",
     "text": [
      "Setting `pad_token_id` to `eos_token_id`:151643 for open-end generation.\n"
     ]
    },
    {
     "name": "stdout",
     "output_type": "stream",
     "text": [
      "💬 Response:\n",
      "Given an ADA dental procedure code and its short name, provide a detailed explanation that helps a patient understand what the procedure involves. Explain the meaning of ADA dental code 39: CT of facial bone. ADA dental code 39: CT of facial bone is a diagnostic procedure that involves the use of computed tomography (CT) to obtain detailed images of the facial bones. This procedure is used to diagnose and evaluate various conditions affecting the facial bones, such as fractures, tumors, infections, and other abnormalities. The CT scan provides a three-dimensional view of the facial bones, which can help doctors identify the location, size, and shape of the bone abnormalities. The procedure is typically performed by a radiologist or a dentist who specializes in oral and maxillofacial radiology. The patient is usually asked to lie still on a table while the CT scanner rotates around the head and takes multiple images. The images are then analyzed by a radiologist to\n",
      "\n",
      "\n",
      "🔸 LoRA MODEL (BirdieByte1024/Qwen2.5-1.5B-LoRA-dental)\n",
      "------------------------------------------------------------\n",
      "📝 Input Prompt:\n",
      "### Instruction:\n",
      "Given an ADA dental procedure code and its short name, provide a detailed explanation that helps a patient understand what the procedure involves.\n",
      "\n",
      "### Code:\n",
      "39 - CT of facial bone\n",
      "\n",
      "### Response:\n",
      "\n"
     ]
    },
    {
     "name": "stderr",
     "output_type": "stream",
     "text": [
      "Setting `pad_token_id` to `eos_token_id`:151643 for open-end generation.\n"
     ]
    },
    {
     "name": "stdout",
     "output_type": "stream",
     "text": [
      "💬 Response:\n",
      "### Instruction:\n",
      "Given an ADA dental procedure code and its short name, provide a detailed explanation that helps a patient understand what the procedure involves.\n",
      "\n",
      "### Code:\n",
      "39 - CT of facial bone\n",
      "\n",
      "### Response: \n",
      "Computerized tomography of facial bone; includes both anterior and posterior views; includes both soft and hard tissue; includes both bone and soft tissue; includes both anterior and posterior views; includes both soft and hard tissue; includes both bone and soft tissue; includes both anterior and posterior views; includes both soft and hard tissue; includes both bone and soft tissue; includes both anterior and posterior views; includes both soft and hard tissue; includes both bone and soft tissue; includes both anterior and posterior views; includes both soft and hard tissue; includes both bone and soft tissue; includes both anterior and posterior views; includes both soft and hard tissue; includes both bone and soft tissue; includes both anterior and posterior views; includes both soft and hard tissue; includes\n",
      "\n"
     ]
    }
   ],
   "source": [
    "import torch\n",
    "from transformers import AutoTokenizer, AutoModelForCausalLM\n",
    "from peft import PeftModel\n",
    "\n",
    "device = torch.device(\"cuda\" if torch.cuda.is_available() else \"cpu\")\n",
    "\n",
    "# Prompts\n",
    "base_prompt = \"Given an ADA dental procedure code and its short name, provide a detailed explanation that helps a patient understand what the procedure involves. Explain the meaning of ADA dental code 39: CT of facial bone.\"\n",
    "\n",
    "lora_prompt = \"\"\"### Instruction:\n",
    "Given an ADA dental procedure code and its short name, provide a detailed explanation that helps a patient understand what the procedure involves.\n",
    "\n",
    "### Code:\n",
    "39 - CT of facial bone\n",
    "\n",
    "### Response:\"\"\"\n",
    "\n",
    "# ========== BASE MODEL ==========\n",
    "print(\"\\n🔹 BASE MODEL (Qwen/Qwen2.5-1.5B)\\n\" + \"-\"*60)\n",
    "print(f\"📝 Input Prompt:\\n{base_prompt}\\n\")\n",
    "\n",
    "# Load model/tokenizer\n",
    "base_tokenizer = AutoTokenizer.from_pretrained(\"Qwen/Qwen2.5-1.5B\", trust_remote_code=True)\n",
    "base_model = AutoModelForCausalLM.from_pretrained(\"Qwen/Qwen2.5-1.5B\", trust_remote_code=True).to(device).eval()\n",
    "\n",
    "# Generate\n",
    "inputs = base_tokenizer(base_prompt, return_tensors=\"pt\").to(device)\n",
    "with torch.no_grad():\n",
    "    base_outputs = base_model.generate(\n",
    "        **inputs,\n",
    "        max_new_tokens=150,\n",
    "        temperature=0.7,\n",
    "        top_p=0.95\n",
    "    )\n",
    "base_response = base_tokenizer.decode(base_outputs[0], skip_special_tokens=True)\n",
    "print(f\"💬 Response:\\n{base_response}\\n\")\n",
    "\n",
    "\n",
    "# ========== LoRA MODEL ==========\n",
    "print(\"\\n🔸 LoRA MODEL (BirdieByte1024/Qwen2.5-1.5B-LoRA-dental)\\n\" + \"-\"*60)\n",
    "print(f\"📝 Input Prompt:\\n{lora_prompt}\\n\")\n",
    "\n",
    "# Load LoRA\n",
    "lora_base = AutoModelForCausalLM.from_pretrained(\"Qwen/Qwen2.5-1.5B\", trust_remote_code=True).to(device)\n",
    "lora_model = PeftModel.from_pretrained(lora_base, \"BirdieByte1024/Qwen2.5-1.5B-LoRA-dental\").to(device).eval()\n",
    "\n",
    "inputs = base_tokenizer(lora_prompt, return_tensors=\"pt\").to(device)\n",
    "with torch.no_grad():\n",
    "    lora_outputs = lora_model.generate(\n",
    "        **inputs,\n",
    "        max_new_tokens=150,\n",
    "        temperature=0.7,\n",
    "        top_p=0.95\n",
    "    )\n",
    "lora_response = base_tokenizer.decode(lora_outputs[0], skip_special_tokens=True)\n",
    "print(f\"💬 Response:\\n{lora_response}\\n\")"
   ]
  }
 ],
 "metadata": {
  "kernelspec": {
   "display_name": "Python 3",
   "language": "python",
   "name": "python3"
  },
  "language_info": {
   "codemirror_mode": {
    "name": "ipython",
    "version": 3
   },
   "file_extension": ".py",
   "mimetype": "text/x-python",
   "name": "python",
   "nbconvert_exporter": "python",
   "pygments_lexer": "ipython3",
   "version": "3.11.11"
  }
 },
 "nbformat": 4,
 "nbformat_minor": 5
}
