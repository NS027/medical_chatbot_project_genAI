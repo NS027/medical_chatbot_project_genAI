{
 "cells": [
  {
   "cell_type": "code",
   "execution_count": 1,
   "id": "81ae1ccc",
   "metadata": {},
   "outputs": [],
   "source": [
    "import os\n",
    "from dotenv import load_dotenv\n",
    "from groq import Groq"
   ]
  },
  {
   "cell_type": "code",
   "execution_count": 2,
   "id": "53c25079",
   "metadata": {},
   "outputs": [
    {
     "data": {
      "text/plain": [
       "True"
      ]
     },
     "execution_count": 2,
     "metadata": {},
     "output_type": "execute_result"
    }
   ],
   "source": [
    "load_dotenv()"
   ]
  },
  {
   "cell_type": "code",
   "execution_count": 3,
   "id": "527b3912",
   "metadata": {},
   "outputs": [],
   "source": [
    "GROQ_API_KEY = os.getenv(\"GROQ_API_KEY\")"
   ]
  },
  {
   "cell_type": "code",
   "execution_count": 5,
   "id": "5fe87359",
   "metadata": {},
   "outputs": [],
   "source": [
    "\n",
    "# Check if the key exists\n",
    "if not GROQ_API_KEY:\n",
    "    raise ValueError(\"GROQ_API_KEY is not set in environment variables.\")"
   ]
  },
  {
   "cell_type": "code",
   "execution_count": 6,
   "id": "872e3bfb",
   "metadata": {},
   "outputs": [
    {
     "name": "stdout",
     "output_type": "stream",
     "text": [
      "✅ GROQ API response:\n",
      "\n",
      "The capital of Canada is Ottawa.\n"
     ]
    }
   ],
   "source": [
    "# Instantiate the client\n",
    "client = Groq(api_key=GROQ_API_KEY)\n",
    "\n",
    "# Send a simple prompt\n",
    "response = client.chat.completions.create(\n",
    "    model=\"llama3-8b-8192\",  # Or replace with your available model\n",
    "    messages=[\n",
    "        {\"role\": \"user\", \"content\": \"What is the capital of Canada?\"}\n",
    "    ]\n",
    ")\n",
    "\n",
    "# Print the output\n",
    "print(\"✅ GROQ API response:\\n\")\n",
    "print(response.choices[0].message.content)"
   ]
  }
 ],
 "metadata": {
  "kernelspec": {
   "display_name": "Python 3",
   "language": "python",
   "name": "python3"
  },
  "language_info": {
   "codemirror_mode": {
    "name": "ipython",
    "version": 3
   },
   "file_extension": ".py",
   "mimetype": "text/x-python",
   "name": "python",
   "nbconvert_exporter": "python",
   "pygments_lexer": "ipython3",
   "version": "3.11.11"
  }
 },
 "nbformat": 4,
 "nbformat_minor": 5
}
