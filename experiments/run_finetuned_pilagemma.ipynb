{
 "cells": [
  {
   "cell_type": "markdown",
   "metadata": {},
   "source": [
    "# Test the fine tuned pila gemma"
   ]
  },
  {
   "cell_type": "code",
   "execution_count": 1,
   "metadata": {},
   "outputs": [
    {
     "name": "stderr",
     "output_type": "stream",
     "text": [
      "/Users/siyunhe/anaconda3/envs/genai_final_project/lib/python3.11/site-packages/tqdm/auto.py:21: TqdmWarning: IProgress not found. Please update jupyter and ipywidgets. See https://ipywidgets.readthedocs.io/en/stable/user_install.html\n",
      "  from .autonotebook import tqdm as notebook_tqdm\n",
      "Loading checkpoint shards: 100%|██████████| 3/3 [00:08<00:00,  2.80s/it]\n"
     ]
    }
   ],
   "source": [
    "from transformers import AutoProcessor, PaliGemmaForConditionalGeneration\n",
    "from peft import PeftModel, PeftConfig\n",
    "from PIL import Image\n",
    "import torch\n",
    "\n",
    "# Load your LoRA model from HuggingFace\n",
    "model_id = \"SiyunHE/medical-pilagemma-lora\"\n",
    "base_model_id = \"google/paligemma-3b-pt-224\"\n",
    "\n",
    "# Load processor\n",
    "processor = AutoProcessor.from_pretrained(base_model_id, use_fast=True)\n",
    "\n",
    "# Load base model config from LoRA\n",
    "peft_config = PeftConfig.from_pretrained(model_id)\n",
    "\n",
    "# Load base model\n",
    "base_model = PaliGemmaForConditionalGeneration.from_pretrained(base_model_id)\n",
    "\n",
    "# Load LoRA weights\n",
    "model = PeftModel.from_pretrained(base_model, model_id).eval()\n",
    "\n",
    "# Inference function\n",
    "def analyze_with_gemma(query, image_path):\n",
    "    image = Image.open(image_path).convert(\"RGB\")\n",
    "\n",
    "    prompt = \"<image> \" + query\n",
    "\n",
    "    inputs = processor(text=prompt, images=image, return_tensors=\"pt\").to(model.device)\n",
    "    input_len = inputs[\"input_ids\"].shape[-1]\n",
    "\n",
    "    with torch.inference_mode():\n",
    "        outputs = model.generate(\n",
    "            **inputs,\n",
    "            max_new_tokens=512,\n",
    "            do_sample=False\n",
    "        )\n",
    "        # Only keep new generated tokens\n",
    "        output = outputs[0][input_len:]\n",
    "\n",
    "        response = processor.decode(output, skip_special_tokens=True)\n",
    "\n",
    "    return response"
   ]
  },
  {
   "cell_type": "code",
   "execution_count": 2,
   "metadata": {},
   "outputs": [
    {
     "name": "stdout",
     "output_type": "stream",
     "text": [
      "bug bite\n"
     ]
    }
   ],
   "source": [
    "query = \"My arm is red and ithchy. What is it?\"\n",
    "image_path = \"skin_rash.jpg\"\n",
    "response = analyze_with_gemma(query, image_path)\n",
    "print(response)"
   ]
  }
 ],
 "metadata": {
  "kernelspec": {
   "display_name": "genai_final_project",
   "language": "python",
   "name": "python3"
  },
  "language_info": {
   "codemirror_mode": {
    "name": "ipython",
    "version": 3
   },
   "file_extension": ".py",
   "mimetype": "text/x-python",
   "name": "python",
   "nbconvert_exporter": "python",
   "pygments_lexer": "ipython3",
   "version": "3.11.11"
  }
 },
 "nbformat": 4,
 "nbformat_minor": 2
}
